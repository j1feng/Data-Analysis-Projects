{
  "nbformat": 4,
  "nbformat_minor": 0,
  "metadata": {
    "kernelspec": {
      "display_name": "Python 3",
      "language": "python",
      "name": "python3"
    },
    "language_info": {
      "codemirror_mode": {
        "name": "ipython",
        "version": 3
      },
      "file_extension": ".py",
      "mimetype": "text/x-python",
      "name": "python",
      "nbconvert_exporter": "python",
      "pygments_lexer": "ipython3",
      "version": "3.6.7"
    },
    "colab": {
      "name": "FinalProject_group080.ipynb",
      "provenance": [],
      "collapsed_sections": [],
      "machine_shape": "hm"
    }
  },
  "cells": [
    {
      "cell_type": "markdown",
      "metadata": {
        "id": "UPSkYr_V-Hya",
        "colab_type": "text"
      },
      "source": [
        "# COGS 108 Final Project\n",
        "#### **1. Overview:**\n",
        "Team 080\n",
        "\n",
        "In this project, we will be analyzing data of patients who have been diagnosed with cardiovascular disease. Our aim is to further understand the causes of cardiovascular disease as well as to develop an algorithm that is able to non-invasively predict and diagnose such conditions. First we explore and visualize the distributions of different features in the dataset, including age, BMI, systolic and diastolic blood pressure. Secondly we evaluate and compare different classifiers (Linear Regression, Logistic Regression, Principle Component Analysis and Support Vector Machines) and identify which is best able to predict cardiovascular disease in this dataset.\n",
        "#### **2. Names:**\n",
        " * Syed Zain Ali Baquar (A12732391)\n",
        " * Qingsheng Ge (A15541533)\n",
        " * Jeffrey Feng (A15507377)\n",
        " * Shengjie Mao (A15531892)\n",
        " * Grace Cheong (A16176085)\n",
        "\n",
        "#### **3. Research Question**\n",
        "\n",
        "Our study will be centered around these two questions: What are the principal indicators of cardiovascular disease? To what accuracy are we able to diagnose these diseases? \n",
        "\n",
        "#### **4. Hypothesis**\n",
        "\n",
        "Using Support Vector Machines, we postulate that we are able to predict an instance of cardiovascular disease in an observation to an accuracy > 70% and a Type I Error of < 20%. It is asserted that there exist at least 3 major indicators of cardiovascular disease. \n",
        "\n",
        "#### **5. Background and Prior Work**\n",
        "\n",
        "* **Background**\n",
        "\n",
        "Cardiovascular diseases (CVDs) have emerged as a leading cause of death. According to the World Health Organization(WHO), 17 .9 million people die from CVDs every year, which is approximately 31 % of deaths worldwide. Through research, it has shown that the occurrence of CVDs is not random; they are often correlated with various factors such as smoking, family history, diet and access to health care services. By studying past record, it will aid us in the understanding of factors correlated with CVDs. \n",
        "\n",
        "Symptoms of CVDs include chest discomfort and shortness of breath which are often overlooked by many patients themselves. Many patients only find out about their condition after experiencing near-fatal symptoms. With proper technological data science tools, medical professionals are able to turn large datasets into crucial information that aid the process of making informed decisions and prediction. Early diagnosis during regular check-ups is integral in saving many lives through prevention and treatments. While researching for our topic, we came across a similar project \"A Hybrid Intelligent System Framework for the Prediction of Heart Disease Using Machine Leaming Algorithms\" https://doi.org/10.1155/2018/3860146. Their project tested different approaches and algorithms with the goal of evaluating their performance. Obesity has been known to cause diabetes, high blood pressure, high cholesterol, all of which are factors leading to CVDs. Hence, We decided to focus our project on the correlation of obesity and CVDs. \n",
        "\n",
        "* **Prior Work**\n",
        "\n",
        "https://doi.org/10.1155/2018/3860146. While researching for our topic, we came across a similar project \"A Hybrid Intelligent System Framework for the Prediction of Heart Disease Using Machine Leaming Algorithms\"  Their project tested different approaches and algorithms with the goal of evaluating their performance. \n",
        "\n",
        "https://www.healthline.com/health/heart-disease/tests-diagnosis#noninvasive-tests This article discussed the different diagnostic tests that doctors used to diagnose cardiovascular disease. By having an understanding of what the different tests accounted for, it allowed our group to make a better interpretation of the data.\n",
        "\n",
        "\n",
        "\n",
        "\n",
        "\n",
        "#### **6. Dataset(s)**\n",
        "\n",
        "* Dataset Name: Cardiovascular Disease dataset \n",
        "* Link: https://www.kaggle.com/sulianova/cardiovascular-disease-dataset \n",
        "* Number of Observations: 70000 \n",
        "\n",
        "Cardiovascular Disease dataset includes possible factors that may cause the disease. There are 13 columns to this dataset. They are ID, age (in days), height, weight, gender, systolic \n",
        "blood pressure, diastolic blood pressure, cholesterol ( degree compared with normal), GLUC level, smoking (whether patients smoke or not), alcohol intake (in binary feature), physical activity (in binary feature), and presence or absence of cardiovascular disease. \n",
        "\n",
        "All of these values \n",
        "were collected at the moment of the medical examination. \n",
        "Since we are going to find out principal indicator(s) of cardiovascular disease, we will \n",
        "use all the data included in the dataset and will try to find out which variable(s) is/are the most direct or important indicator(s). \n",
        "\n",
        "\n",
        "\n",
        "\n"
      ]
    },
    {
      "cell_type": "markdown",
      "metadata": {
        "id": "unuGQpxd2bFl",
        "colab_type": "text"
      },
      "source": [
        "**Privacy & Ethical Considerations**\n",
        "\n",
        "From the background part above, we understand that there are many factors, like age, weight and gender, can indicate the potential of having cardiovascular disease. But some of them have no significant influence or maybe there are some third variables may contribute to the disease. Hence, in this project, we are going to analyze and visualize the dataset we obtained and try to find out principle indicators that can help us to diagnose the disease.\n",
        "\n",
        "We obtain the dataset for project from a website called Kaggle and it gives us access for using and downloading its databases. According to the dataset's \"Usability\" part, it has public kernel, which indicates that we can use it for this project.\n",
        "\n",
        "Even though the dataset is made for public use, we still take consideration for possible privacy problems. Since information related to illuness is important for patients, we do not want them to be influenced by our research. Therefore, when cleaning data, we drop the information about patients' id, which, according to Safe Harbor Method, may reveal patients' real names or other private information if people apply their IDs to other datasets. \n",
        "\n",
        "While other elements in the dataset are essential for our analysis and they do not have specific information related to patients' privacy, we did not exclude them from the dataset.\n",
        "\n",
        "However, since the dataset does not include information across all ages and only contains patients ages range from 35 to 65, we may have bias toward people ages in these range. So the analysis may not be applicable for people younger or older than the range we covered. \n",
        "\n",
        "We take careful consideration for the analysis so besides the existing bias in data and we minimize the danger of exposing patients' privacy.  "
      ]
    },
    {
      "cell_type": "code",
      "metadata": {
        "id": "r3hCzUas-Hyc",
        "colab_type": "code",
        "colab": {}
      },
      "source": [
        "# Imports\n",
        "import numpy as np\n",
        "import pandas as pd\n",
        "import statsmodels.api as sm\n",
        "\n",
        "import sklearn as sk\n",
        "from sklearn import linear_model\n",
        "from sklearn.preprocessing import MinMaxScaler\n",
        "from sklearn.neural_network import MLPClassifier\n",
        "from sklearn.metrics import mean_squared_error, r2_score\n",
        "import matplotlib.pyplot as plt\n",
        "import seaborn as sns\n",
        "\n",
        "import copy"
      ],
      "execution_count": 0,
      "outputs": []
    },
    {
      "cell_type": "markdown",
      "metadata": {
        "id": "qdcPLWLz-Hyf",
        "colab_type": "text"
      },
      "source": [
        "## Datasets\n",
        "\n",
        "Cardiovascular Dieases dataset https://www.kaggle.com/sulianova/cardiovascular-disease-dataset\n",
        "```\n",
        "id          - ID number  \n",
        "age         - days\n",
        "gender      - 1 - women, 2 - men  \n",
        "height      - (unit: cm)  \n",
        "weight      - (unit: kg)  \n",
        "ap_hi       - Systolic blood pressure  \n",
        "ap_lo       - Diastolic blood pressure  \n",
        "cholesterol - 1: normal, 2: above normal, 3: well above normal  \n",
        "gluc        - 1: normal, 2: above normal, 3: well above normal  \n",
        "smoke       - whether patient smokes or not  \n",
        "alco        - whether patient drinks or not\n",
        "active      - whether patient exercises or not \n",
        "cardio      - Target variable (binary, presence of cardiovascular disease)\n",
        "```"
      ]
    },
    {
      "cell_type": "code",
      "metadata": {
        "id": "U_WSwXUc-Hyf",
        "colab_type": "code",
        "outputId": "de7936e3-3031-4106-9a75-88356ddc0cb8",
        "colab": {
          "base_uri": "https://localhost:8080/",
          "height": 424
        }
      },
      "source": [
        "# Loading dataset\n",
        "try:\n",
        "  # hackish loading directly from github, because google collab doesn't have a file system\n",
        "  cvd_dir = \"https://raw.githubusercontent.com/COGS108/group080/master/datasets/cvd_dataset/cardio_train.csv?token=ALDKPSKXL4M3O7Y4P6LLQPS57F3OQ\"\n",
        "  df = pd.read_csv(cvd_dir, sep=';')\n",
        "except:\n",
        "  df = pd.read_csv(\"cvd_dataset/cardio_train.csv\", sep=';')\n",
        "df"
      ],
      "execution_count": 39,
      "outputs": [
        {
          "output_type": "execute_result",
          "data": {
            "text/html": [
              "<div>\n",
              "<style scoped>\n",
              "    .dataframe tbody tr th:only-of-type {\n",
              "        vertical-align: middle;\n",
              "    }\n",
              "\n",
              "    .dataframe tbody tr th {\n",
              "        vertical-align: top;\n",
              "    }\n",
              "\n",
              "    .dataframe thead th {\n",
              "        text-align: right;\n",
              "    }\n",
              "</style>\n",
              "<table border=\"1\" class=\"dataframe\">\n",
              "  <thead>\n",
              "    <tr style=\"text-align: right;\">\n",
              "      <th></th>\n",
              "      <th>id</th>\n",
              "      <th>age</th>\n",
              "      <th>gender</th>\n",
              "      <th>height</th>\n",
              "      <th>weight</th>\n",
              "      <th>ap_hi</th>\n",
              "      <th>ap_lo</th>\n",
              "      <th>cholesterol</th>\n",
              "      <th>gluc</th>\n",
              "      <th>smoke</th>\n",
              "      <th>alco</th>\n",
              "      <th>active</th>\n",
              "      <th>cardio</th>\n",
              "    </tr>\n",
              "  </thead>\n",
              "  <tbody>\n",
              "    <tr>\n",
              "      <th>0</th>\n",
              "      <td>0</td>\n",
              "      <td>18393</td>\n",
              "      <td>2</td>\n",
              "      <td>168</td>\n",
              "      <td>62.0</td>\n",
              "      <td>110</td>\n",
              "      <td>80</td>\n",
              "      <td>1</td>\n",
              "      <td>1</td>\n",
              "      <td>0</td>\n",
              "      <td>0</td>\n",
              "      <td>1</td>\n",
              "      <td>0</td>\n",
              "    </tr>\n",
              "    <tr>\n",
              "      <th>1</th>\n",
              "      <td>1</td>\n",
              "      <td>20228</td>\n",
              "      <td>1</td>\n",
              "      <td>156</td>\n",
              "      <td>85.0</td>\n",
              "      <td>140</td>\n",
              "      <td>90</td>\n",
              "      <td>3</td>\n",
              "      <td>1</td>\n",
              "      <td>0</td>\n",
              "      <td>0</td>\n",
              "      <td>1</td>\n",
              "      <td>1</td>\n",
              "    </tr>\n",
              "    <tr>\n",
              "      <th>2</th>\n",
              "      <td>2</td>\n",
              "      <td>18857</td>\n",
              "      <td>1</td>\n",
              "      <td>165</td>\n",
              "      <td>64.0</td>\n",
              "      <td>130</td>\n",
              "      <td>70</td>\n",
              "      <td>3</td>\n",
              "      <td>1</td>\n",
              "      <td>0</td>\n",
              "      <td>0</td>\n",
              "      <td>0</td>\n",
              "      <td>1</td>\n",
              "    </tr>\n",
              "    <tr>\n",
              "      <th>3</th>\n",
              "      <td>3</td>\n",
              "      <td>17623</td>\n",
              "      <td>2</td>\n",
              "      <td>169</td>\n",
              "      <td>82.0</td>\n",
              "      <td>150</td>\n",
              "      <td>100</td>\n",
              "      <td>1</td>\n",
              "      <td>1</td>\n",
              "      <td>0</td>\n",
              "      <td>0</td>\n",
              "      <td>1</td>\n",
              "      <td>1</td>\n",
              "    </tr>\n",
              "    <tr>\n",
              "      <th>4</th>\n",
              "      <td>4</td>\n",
              "      <td>17474</td>\n",
              "      <td>1</td>\n",
              "      <td>156</td>\n",
              "      <td>56.0</td>\n",
              "      <td>100</td>\n",
              "      <td>60</td>\n",
              "      <td>1</td>\n",
              "      <td>1</td>\n",
              "      <td>0</td>\n",
              "      <td>0</td>\n",
              "      <td>0</td>\n",
              "      <td>0</td>\n",
              "    </tr>\n",
              "    <tr>\n",
              "      <th>...</th>\n",
              "      <td>...</td>\n",
              "      <td>...</td>\n",
              "      <td>...</td>\n",
              "      <td>...</td>\n",
              "      <td>...</td>\n",
              "      <td>...</td>\n",
              "      <td>...</td>\n",
              "      <td>...</td>\n",
              "      <td>...</td>\n",
              "      <td>...</td>\n",
              "      <td>...</td>\n",
              "      <td>...</td>\n",
              "      <td>...</td>\n",
              "    </tr>\n",
              "    <tr>\n",
              "      <th>69995</th>\n",
              "      <td>99993</td>\n",
              "      <td>19240</td>\n",
              "      <td>2</td>\n",
              "      <td>168</td>\n",
              "      <td>76.0</td>\n",
              "      <td>120</td>\n",
              "      <td>80</td>\n",
              "      <td>1</td>\n",
              "      <td>1</td>\n",
              "      <td>1</td>\n",
              "      <td>0</td>\n",
              "      <td>1</td>\n",
              "      <td>0</td>\n",
              "    </tr>\n",
              "    <tr>\n",
              "      <th>69996</th>\n",
              "      <td>99995</td>\n",
              "      <td>22601</td>\n",
              "      <td>1</td>\n",
              "      <td>158</td>\n",
              "      <td>126.0</td>\n",
              "      <td>140</td>\n",
              "      <td>90</td>\n",
              "      <td>2</td>\n",
              "      <td>2</td>\n",
              "      <td>0</td>\n",
              "      <td>0</td>\n",
              "      <td>1</td>\n",
              "      <td>1</td>\n",
              "    </tr>\n",
              "    <tr>\n",
              "      <th>69997</th>\n",
              "      <td>99996</td>\n",
              "      <td>19066</td>\n",
              "      <td>2</td>\n",
              "      <td>183</td>\n",
              "      <td>105.0</td>\n",
              "      <td>180</td>\n",
              "      <td>90</td>\n",
              "      <td>3</td>\n",
              "      <td>1</td>\n",
              "      <td>0</td>\n",
              "      <td>1</td>\n",
              "      <td>0</td>\n",
              "      <td>1</td>\n",
              "    </tr>\n",
              "    <tr>\n",
              "      <th>69998</th>\n",
              "      <td>99998</td>\n",
              "      <td>22431</td>\n",
              "      <td>1</td>\n",
              "      <td>163</td>\n",
              "      <td>72.0</td>\n",
              "      <td>135</td>\n",
              "      <td>80</td>\n",
              "      <td>1</td>\n",
              "      <td>2</td>\n",
              "      <td>0</td>\n",
              "      <td>0</td>\n",
              "      <td>0</td>\n",
              "      <td>1</td>\n",
              "    </tr>\n",
              "    <tr>\n",
              "      <th>69999</th>\n",
              "      <td>99999</td>\n",
              "      <td>20540</td>\n",
              "      <td>1</td>\n",
              "      <td>170</td>\n",
              "      <td>72.0</td>\n",
              "      <td>120</td>\n",
              "      <td>80</td>\n",
              "      <td>2</td>\n",
              "      <td>1</td>\n",
              "      <td>0</td>\n",
              "      <td>0</td>\n",
              "      <td>1</td>\n",
              "      <td>0</td>\n",
              "    </tr>\n",
              "  </tbody>\n",
              "</table>\n",
              "<p>70000 rows × 13 columns</p>\n",
              "</div>"
            ],
            "text/plain": [
              "          id    age  gender  height  weight  ...  gluc  smoke  alco  active  cardio\n",
              "0          0  18393       2     168    62.0  ...     1      0     0       1       0\n",
              "1          1  20228       1     156    85.0  ...     1      0     0       1       1\n",
              "2          2  18857       1     165    64.0  ...     1      0     0       0       1\n",
              "3          3  17623       2     169    82.0  ...     1      0     0       1       1\n",
              "4          4  17474       1     156    56.0  ...     1      0     0       0       0\n",
              "...      ...    ...     ...     ...     ...  ...   ...    ...   ...     ...     ...\n",
              "69995  99993  19240       2     168    76.0  ...     1      1     0       1       0\n",
              "69996  99995  22601       1     158   126.0  ...     2      0     0       1       1\n",
              "69997  99996  19066       2     183   105.0  ...     1      0     1       0       1\n",
              "69998  99998  22431       1     163    72.0  ...     2      0     0       0       1\n",
              "69999  99999  20540       1     170    72.0  ...     1      0     0       1       0\n",
              "\n",
              "[70000 rows x 13 columns]"
            ]
          },
          "metadata": {
            "tags": []
          },
          "execution_count": 39
        }
      ]
    },
    {
      "cell_type": "markdown",
      "metadata": {
        "id": "RVQlUdKG9rbo",
        "colab_type": "text"
      },
      "source": [
        "We will first see if there are any null values inside of the table as they may cause problems during the analysis."
      ]
    },
    {
      "cell_type": "code",
      "metadata": {
        "id": "qFH5wyUrsRR2",
        "colab_type": "code",
        "outputId": "65e37f11-b088-4a7a-bec0-80b75896d64d",
        "colab": {
          "base_uri": "https://localhost:8080/",
          "height": 35
        }
      },
      "source": [
        "# Check Null values\n",
        "df.isnull().values.any()"
      ],
      "execution_count": 40,
      "outputs": [
        {
          "output_type": "execute_result",
          "data": {
            "text/plain": [
              "False"
            ]
          },
          "metadata": {
            "tags": []
          },
          "execution_count": 40
        }
      ]
    },
    {
      "cell_type": "markdown",
      "metadata": {
        "id": "3b9zT2fa-Aj6",
        "colab_type": "text"
      },
      "source": [
        "It seems like we do not have any null values in the table. Therefore, we can continue with data visualization and data cleaning. First of all though, we will drop the ID column as unnessary column and change the year column so we will have year as unit."
      ]
    },
    {
      "cell_type": "code",
      "metadata": {
        "id": "lxemNdyg-Hyi",
        "colab_type": "code",
        "colab": {}
      },
      "source": [
        "# Drop ID column and add age_year column\n",
        "if \"id\" in df:\n",
        "    df = df.drop(\"id\", axis = 1)\n",
        "df[\"age_year\"] = df[\"age\"].map(lambda age: round(age / 365))"
      ],
      "execution_count": 0,
      "outputs": []
    },
    {
      "cell_type": "markdown",
      "metadata": {
        "id": "G4BruzToK6UT",
        "colab_type": "text"
      },
      "source": [
        "# Data Visualization & Simple Exploration\n",
        "Having a closer look at the data can have reveal insights otherwise missed in numbers. Below are some plots exploring the dataset.\n",
        "\n"
      ]
    },
    {
      "cell_type": "markdown",
      "metadata": {
        "id": "HU45RmyE-Hyk",
        "colab_type": "text"
      },
      "source": [
        "### Age Distribution\n",
        "We can make a simple histogram on the distribution of patients' age in the dataset. Diagram below shows that most of the patients are between age 40 and 65 which makes sense (people get Cardiovascular Diseases when they are older)"
      ]
    },
    {
      "cell_type": "code",
      "metadata": {
        "id": "qfE7ghLb-Hyl",
        "colab_type": "code",
        "outputId": "06e6d7bc-c6f5-4fff-b256-a974e4e62eea",
        "colab": {
          "base_uri": "https://localhost:8080/",
          "height": 299
        }
      },
      "source": [
        "plt.hist(df['age_year'], bins=10)\n",
        "plt.title('Age Histogram')\n",
        "# plt.xlabel(\"Age distrbution of the original data set, unit: years\")\n",
        "# plt.ylabel('Frequency')"
      ],
      "execution_count": 42,
      "outputs": [
        {
          "output_type": "execute_result",
          "data": {
            "text/plain": [
              "Text(0.5, 1.0, 'Age Histogram')"
            ]
          },
          "metadata": {
            "tags": []
          },
          "execution_count": 42
        },
        {
          "output_type": "display_data",
          "data": {
            "image/png": "[encoded data removed]",
            "text/plain": [
              "<Figure size 432x288 with 1 Axes>"
            ]
          },
          "metadata": {
            "tags": []
          }
        }
      ]
    },
    {
      "cell_type": "markdown",
      "metadata": {
        "id": "RppFSKOlMk9-",
        "colab_type": "text"
      },
      "source": [
        "The above plot gives good insight into the age distribution of the dataset. We see that most participants are between the ages of 45 and 60 years."
      ]
    },
    {
      "cell_type": "code",
      "metadata": {
        "id": "mtRzE4gVwdtE",
        "colab_type": "code",
        "outputId": "ba329411-15d2-4a0a-fd99-37189f7488fb",
        "colab": {
          "base_uri": "https://localhost:8080/",
          "height": 313
        }
      },
      "source": [
        "sns.countplot(x='age_year', hue='cardio', data=df)\n",
        "plt.title('Age Count with/without Disease')"
      ],
      "execution_count": 43,
      "outputs": [
        {
          "output_type": "execute_result",
          "data": {
            "text/plain": [
              "Text(0.5, 1.0, 'Age Count with/without Disease')"
            ]
          },
          "metadata": {
            "tags": []
          },
          "execution_count": 43
        },
        {
          "output_type": "display_data",
          "data": {
            "image/png": "[encoded data removed]",
            "text/plain": [
              "<Figure size 432x288 with 1 Axes>"
            ]
          },
          "metadata": {
            "tags": []
          }
        }
      ]
    },
    {
      "cell_type": "markdown",
      "metadata": {
        "id": "m3mYZGSJNZ5e",
        "colab_type": "text"
      },
      "source": [
        "The above plot describes the age distribution while taking the occurence of cardiovascular disease into account. Here the orange bars represent subjects with cardiovascular disease, and the blue bars represent those without it.\n",
        "\n",
        "This figure tells us that the larger number of those without cardiovascular disease are younger than those who have it, indicating the influence of age."
      ]
    },
    {
      "cell_type": "markdown",
      "metadata": {
        "id": "fguxN-qr-vHL",
        "colab_type": "text"
      },
      "source": [
        "To get a more standardized unit for size and height, we will calculate the BMI of each person and add the result to a new column called 'bmi'"
      ]
    },
    {
      "cell_type": "code",
      "metadata": {
        "id": "nlmoXB4ys7Mi",
        "colab_type": "code",
        "colab": {}
      },
      "source": [
        "# Method to compute Body Mass Index (BMI)\n",
        "def bmi(weight, height):\n",
        "  height = height / 100 # cm to m\n",
        "  return weight / (height * height)"
      ],
      "execution_count": 0,
      "outputs": []
    },
    {
      "cell_type": "code",
      "metadata": {
        "id": "bAm-gV8HtPBL",
        "colab_type": "code",
        "colab": {}
      },
      "source": [
        "# append BMI column to df\n",
        "bmi_col = [bmi(weight, height) for weight, height in zip(df.weight, df.height)]\n",
        "df['bmi'] = bmi_col"
      ],
      "execution_count": 0,
      "outputs": []
    },
    {
      "cell_type": "markdown",
      "metadata": {
        "id": "qtniT48r4Aes",
        "colab_type": "text"
      },
      "source": [
        "#### Gender Distribution"
      ]
    },
    {
      "cell_type": "code",
      "metadata": {
        "id": "d-HhtrdT4DKg",
        "colab_type": "code",
        "outputId": "36eb04b3-319d-4f96-f56a-917311a410e2",
        "colab": {
          "base_uri": "https://localhost:8080/",
          "height": 167
        }
      },
      "source": [
        "gender_dist_cardio = df.gender[df.cardio == 1].value_counts().values\n",
        "gender_dist_nocardio = df.gender[df.cardio == 0].value_counts().values\n",
        "gender_map = np.vstack((gender_dist_nocardio, gender_dist_cardio))\n",
        "gm_df = pd.DataFrame(gender_map, index=['nocardio', 'cardio'], columns=['female', 'male'])\n",
        "f_cardio_percent = 100 * (gm_df.female.cardio/sum(gm_df.female))\n",
        "m_cardio_percent = 100 * (gm_df.male.cardio/sum(gm_df.male))\n",
        "\n",
        "print(\"In this Dataset,\")\n",
        "print(\"{0:.1f}% of women have cardiovascular disease.\".format(f_cardio_percent))\n",
        "print(\"{0:.1f}% of men have cardiovascular disease.\".format(m_cardio_percent))\n",
        "gm_df.head()"
      ],
      "execution_count": 46,
      "outputs": [
        {
          "output_type": "stream",
          "text": [
            "In this Dataset,\n",
            "49.7% of women have cardiovascular disease.\n",
            "50.5% of men have cardiovascular disease.\n"
          ],
          "name": "stdout"
        },
        {
          "output_type": "execute_result",
          "data": {
            "text/html": [
              "<div>\n",
              "<style scoped>\n",
              "    .dataframe tbody tr th:only-of-type {\n",
              "        vertical-align: middle;\n",
              "    }\n",
              "\n",
              "    .dataframe tbody tr th {\n",
              "        vertical-align: top;\n",
              "    }\n",
              "\n",
              "    .dataframe thead th {\n",
              "        text-align: right;\n",
              "    }\n",
              "</style>\n",
              "<table border=\"1\" class=\"dataframe\">\n",
              "  <thead>\n",
              "    <tr style=\"text-align: right;\">\n",
              "      <th></th>\n",
              "      <th>female</th>\n",
              "      <th>male</th>\n",
              "    </tr>\n",
              "  </thead>\n",
              "  <tbody>\n",
              "    <tr>\n",
              "      <th>nocardio</th>\n",
              "      <td>22914</td>\n",
              "      <td>12107</td>\n",
              "    </tr>\n",
              "    <tr>\n",
              "      <th>cardio</th>\n",
              "      <td>22616</td>\n",
              "      <td>12363</td>\n",
              "    </tr>\n",
              "  </tbody>\n",
              "</table>\n",
              "</div>"
            ],
            "text/plain": [
              "          female   male\n",
              "nocardio   22914  12107\n",
              "cardio     22616  12363"
            ]
          },
          "metadata": {
            "tags": []
          },
          "execution_count": 46
        }
      ]
    },
    {
      "cell_type": "markdown",
      "metadata": {
        "id": "Hr90q7fxOqM3",
        "colab_type": "text"
      },
      "source": [
        "These numbers tell us that the dataset includes an equal distribution of those who have and do not have cardiovascular disease across gender. This allows us to verify to integrity of our dataset."
      ]
    },
    {
      "cell_type": "markdown",
      "metadata": {
        "id": "qNtJnnCundgX",
        "colab_type": "text"
      },
      "source": [
        "However, before we start any data analysis, it is important to make sure that we do not have any outliers to affect our results. By drawing the boxplots on the numeric columns in our data set. The outliers which lie above or below the 1.5 * interquartile range of the list of data in that column, will be marked as individual dots."
      ]
    },
    {
      "cell_type": "code",
      "metadata": {
        "id": "LKXYslnxoTsO",
        "colab_type": "code",
        "outputId": "79f57810-03c0-41f9-c0a4-d7f9b6c6290b",
        "colab": {
          "base_uri": "https://localhost:8080/",
          "height": 734
        }
      },
      "source": [
        "fig, axs = plt.subplots(1,4,figsize=(18,12))\n",
        "\n",
        "# plot height\n",
        "axs[0].boxplot(df['height'])\n",
        "axs[0].set_title('Height in cm')\n",
        "\n",
        "# plot weight\n",
        "axs[1].boxplot(df['weight'])\n",
        "axs[1].set_title('weight in kg')\n",
        "\n",
        "# plot distolic blood pressure\n",
        "axs[2].boxplot(df['ap_lo'])\n",
        "axs[2].set_title('Diastolic blood pressure')\n",
        "\n",
        "# plot systolic blood pressure\n",
        "axs[3].boxplot(df['ap_hi'])\n",
        "axs[3].set_title(\"Systolic blood pressure\")"
      ],
      "execution_count": 47,
      "outputs": [
        {
          "output_type": "execute_result",
          "data": {
            "text/plain": [
              "Text(0.5, 1.0, 'Systolic blood pressure')"
            ]
          },
          "metadata": {
            "tags": []
          },
          "execution_count": 47
        },
        {
          "output_type": "display_data",
          "data": {
            "image/png": "[encoded data removed]",
            "text/plain": [
              "<Figure size 1296x864 with 4 Axes>"
            ]
          },
          "metadata": {
            "tags": []
          }
        }
      ]
    },
    {
      "cell_type": "markdown",
      "metadata": {
        "id": "972O8QhErbcb",
        "colab_type": "text"
      },
      "source": [
        "By observing the four boxplots we can clearly see that each has some outliers. The ranges, considered the normal range for non-outliers, are approximately 145 cm to 185cm for height, 40kg to 110 kg for weight, and we can see the normal range for blood pressure has been squeezed to a single line on blood pressure, because we get a huge range of blood pressure, which seems to be a problem."
      ]
    },
    {
      "cell_type": "markdown",
      "metadata": {
        "id": "Wx32Bh9csJdH",
        "colab_type": "text"
      },
      "source": [
        "# Data Cleaning\n",
        "Therefore, we need to remove the outliers before any analysis. Thinking critically, we should not just remove the outliers marked by the boxplot, because there are many people who just happened to be very short or very tall, and we should not exclude them because of our statistic. However, there are many people who are below height 75cm, which is below about 2.5 feet tall. Since we already looked at the distribution of age and all of our data point represent an adult, we decide to remove these people with apparently fake height. The similar data cleaning will be applied to the weight column, and both blood pressure columns. We also have people with blood pressure over 10000, which is impossible. We will remove data points like that.\n",
        "\n",
        "We decide to use 100 to 225 as our normal height range in cm; \n",
        "35 to 150 as our normal range in kg; These range are arbitrary, but are reasonable ranges that people could possibly fall into. http://www.bloodpressureuk.org shows that 40 - 100 is the possible range for diastolic blood pressure (ap_lo) and 70 - 190 is the possible range for systolic blood pressure (ap_hi), we noticed that there are records where people can get higher blood pressure than our threshold, but at that moment people must be treated immediately as an emergency and death can happen any time, therefore we will remove extreme case for normal data.\n"
      ]
    },
    {
      "cell_type": "code",
      "metadata": {
        "id": "LIn4otGKu3gf",
        "colab_type": "code",
        "outputId": "53b09f11-3657-4cee-aa88-fab8c6837608",
        "colab": {
          "base_uri": "https://localhost:8080/",
          "height": 571
        }
      },
      "source": [
        "df_clean = df[df.height > 100][df.height < 225]\n",
        "df_clean = df_clean[df_clean.weight > 35][df_clean.weight < 150]\n",
        "df_clean = df_clean[df_clean.ap_hi > 70][df_clean.ap_hi < 190]\n",
        "df_clean = df_clean[df_clean.ap_lo > 40][df_clean.ap_lo < 100]\n",
        "df_clean"
      ],
      "execution_count": 48,
      "outputs": [
        {
          "output_type": "stream",
          "text": [
            "/usr/local/lib/python3.6/dist-packages/ipykernel_launcher.py:1: UserWarning: Boolean Series key will be reindexed to match DataFrame index.\n",
            "  \"\"\"Entry point for launching an IPython kernel.\n",
            "/usr/local/lib/python3.6/dist-packages/ipykernel_launcher.py:2: UserWarning: Boolean Series key will be reindexed to match DataFrame index.\n",
            "  \n",
            "/usr/local/lib/python3.6/dist-packages/ipykernel_launcher.py:3: UserWarning: Boolean Series key will be reindexed to match DataFrame index.\n",
            "  This is separate from the ipykernel package so we can avoid doing imports until\n",
            "/usr/local/lib/python3.6/dist-packages/ipykernel_launcher.py:4: UserWarning: Boolean Series key will be reindexed to match DataFrame index.\n",
            "  after removing the cwd from sys.path.\n"
          ],
          "name": "stderr"
        },
        {
          "output_type": "execute_result",
          "data": {
            "text/html": [
              "<div>\n",
              "<style scoped>\n",
              "    .dataframe tbody tr th:only-of-type {\n",
              "        vertical-align: middle;\n",
              "    }\n",
              "\n",
              "    .dataframe tbody tr th {\n",
              "        vertical-align: top;\n",
              "    }\n",
              "\n",
              "    .dataframe thead th {\n",
              "        text-align: right;\n",
              "    }\n",
              "</style>\n",
              "<table border=\"1\" class=\"dataframe\">\n",
              "  <thead>\n",
              "    <tr style=\"text-align: right;\">\n",
              "      <th></th>\n",
              "      <th>age</th>\n",
              "      <th>gender</th>\n",
              "      <th>height</th>\n",
              "      <th>weight</th>\n",
              "      <th>ap_hi</th>\n",
              "      <th>ap_lo</th>\n",
              "      <th>cholesterol</th>\n",
              "      <th>gluc</th>\n",
              "      <th>smoke</th>\n",
              "      <th>alco</th>\n",
              "      <th>active</th>\n",
              "      <th>cardio</th>\n",
              "      <th>age_year</th>\n",
              "      <th>bmi</th>\n",
              "    </tr>\n",
              "  </thead>\n",
              "  <tbody>\n",
              "    <tr>\n",
              "      <th>0</th>\n",
              "      <td>18393</td>\n",
              "      <td>2</td>\n",
              "      <td>168</td>\n",
              "      <td>62.0</td>\n",
              "      <td>110</td>\n",
              "      <td>80</td>\n",
              "      <td>1</td>\n",
              "      <td>1</td>\n",
              "      <td>0</td>\n",
              "      <td>0</td>\n",
              "      <td>1</td>\n",
              "      <td>0</td>\n",
              "      <td>50</td>\n",
              "      <td>21.967120</td>\n",
              "    </tr>\n",
              "    <tr>\n",
              "      <th>1</th>\n",
              "      <td>20228</td>\n",
              "      <td>1</td>\n",
              "      <td>156</td>\n",
              "      <td>85.0</td>\n",
              "      <td>140</td>\n",
              "      <td>90</td>\n",
              "      <td>3</td>\n",
              "      <td>1</td>\n",
              "      <td>0</td>\n",
              "      <td>0</td>\n",
              "      <td>1</td>\n",
              "      <td>1</td>\n",
              "      <td>55</td>\n",
              "      <td>34.927679</td>\n",
              "    </tr>\n",
              "    <tr>\n",
              "      <th>2</th>\n",
              "      <td>18857</td>\n",
              "      <td>1</td>\n",
              "      <td>165</td>\n",
              "      <td>64.0</td>\n",
              "      <td>130</td>\n",
              "      <td>70</td>\n",
              "      <td>3</td>\n",
              "      <td>1</td>\n",
              "      <td>0</td>\n",
              "      <td>0</td>\n",
              "      <td>0</td>\n",
              "      <td>1</td>\n",
              "      <td>52</td>\n",
              "      <td>23.507805</td>\n",
              "    </tr>\n",
              "    <tr>\n",
              "      <th>4</th>\n",
              "      <td>17474</td>\n",
              "      <td>1</td>\n",
              "      <td>156</td>\n",
              "      <td>56.0</td>\n",
              "      <td>100</td>\n",
              "      <td>60</td>\n",
              "      <td>1</td>\n",
              "      <td>1</td>\n",
              "      <td>0</td>\n",
              "      <td>0</td>\n",
              "      <td>0</td>\n",
              "      <td>0</td>\n",
              "      <td>48</td>\n",
              "      <td>23.011177</td>\n",
              "    </tr>\n",
              "    <tr>\n",
              "      <th>5</th>\n",
              "      <td>21914</td>\n",
              "      <td>1</td>\n",
              "      <td>151</td>\n",
              "      <td>67.0</td>\n",
              "      <td>120</td>\n",
              "      <td>80</td>\n",
              "      <td>2</td>\n",
              "      <td>2</td>\n",
              "      <td>0</td>\n",
              "      <td>0</td>\n",
              "      <td>0</td>\n",
              "      <td>0</td>\n",
              "      <td>60</td>\n",
              "      <td>29.384676</td>\n",
              "    </tr>\n",
              "    <tr>\n",
              "      <th>...</th>\n",
              "      <td>...</td>\n",
              "      <td>...</td>\n",
              "      <td>...</td>\n",
              "      <td>...</td>\n",
              "      <td>...</td>\n",
              "      <td>...</td>\n",
              "      <td>...</td>\n",
              "      <td>...</td>\n",
              "      <td>...</td>\n",
              "      <td>...</td>\n",
              "      <td>...</td>\n",
              "      <td>...</td>\n",
              "      <td>...</td>\n",
              "      <td>...</td>\n",
              "    </tr>\n",
              "    <tr>\n",
              "      <th>69995</th>\n",
              "      <td>19240</td>\n",
              "      <td>2</td>\n",
              "      <td>168</td>\n",
              "      <td>76.0</td>\n",
              "      <td>120</td>\n",
              "      <td>80</td>\n",
              "      <td>1</td>\n",
              "      <td>1</td>\n",
              "      <td>1</td>\n",
              "      <td>0</td>\n",
              "      <td>1</td>\n",
              "      <td>0</td>\n",
              "      <td>53</td>\n",
              "      <td>26.927438</td>\n",
              "    </tr>\n",
              "    <tr>\n",
              "      <th>69996</th>\n",
              "      <td>22601</td>\n",
              "      <td>1</td>\n",
              "      <td>158</td>\n",
              "      <td>126.0</td>\n",
              "      <td>140</td>\n",
              "      <td>90</td>\n",
              "      <td>2</td>\n",
              "      <td>2</td>\n",
              "      <td>0</td>\n",
              "      <td>0</td>\n",
              "      <td>1</td>\n",
              "      <td>1</td>\n",
              "      <td>62</td>\n",
              "      <td>50.472681</td>\n",
              "    </tr>\n",
              "    <tr>\n",
              "      <th>69997</th>\n",
              "      <td>19066</td>\n",
              "      <td>2</td>\n",
              "      <td>183</td>\n",
              "      <td>105.0</td>\n",
              "      <td>180</td>\n",
              "      <td>90</td>\n",
              "      <td>3</td>\n",
              "      <td>1</td>\n",
              "      <td>0</td>\n",
              "      <td>1</td>\n",
              "      <td>0</td>\n",
              "      <td>1</td>\n",
              "      <td>52</td>\n",
              "      <td>31.353579</td>\n",
              "    </tr>\n",
              "    <tr>\n",
              "      <th>69998</th>\n",
              "      <td>22431</td>\n",
              "      <td>1</td>\n",
              "      <td>163</td>\n",
              "      <td>72.0</td>\n",
              "      <td>135</td>\n",
              "      <td>80</td>\n",
              "      <td>1</td>\n",
              "      <td>2</td>\n",
              "      <td>0</td>\n",
              "      <td>0</td>\n",
              "      <td>0</td>\n",
              "      <td>1</td>\n",
              "      <td>61</td>\n",
              "      <td>27.099251</td>\n",
              "    </tr>\n",
              "    <tr>\n",
              "      <th>69999</th>\n",
              "      <td>20540</td>\n",
              "      <td>1</td>\n",
              "      <td>170</td>\n",
              "      <td>72.0</td>\n",
              "      <td>120</td>\n",
              "      <td>80</td>\n",
              "      <td>2</td>\n",
              "      <td>1</td>\n",
              "      <td>0</td>\n",
              "      <td>0</td>\n",
              "      <td>1</td>\n",
              "      <td>0</td>\n",
              "      <td>56</td>\n",
              "      <td>24.913495</td>\n",
              "    </tr>\n",
              "  </tbody>\n",
              "</table>\n",
              "<p>63755 rows × 14 columns</p>\n",
              "</div>"
            ],
            "text/plain": [
              "         age  gender  height  weight  ...  active  cardio  age_year        bmi\n",
              "0      18393       2     168    62.0  ...       1       0        50  21.967120\n",
              "1      20228       1     156    85.0  ...       1       1        55  34.927679\n",
              "2      18857       1     165    64.0  ...       0       1        52  23.507805\n",
              "4      17474       1     156    56.0  ...       0       0        48  23.011177\n",
              "5      21914       1     151    67.0  ...       0       0        60  29.384676\n",
              "...      ...     ...     ...     ...  ...     ...     ...       ...        ...\n",
              "69995  19240       2     168    76.0  ...       1       0        53  26.927438\n",
              "69996  22601       1     158   126.0  ...       1       1        62  50.472681\n",
              "69997  19066       2     183   105.0  ...       0       1        52  31.353579\n",
              "69998  22431       1     163    72.0  ...       0       1        61  27.099251\n",
              "69999  20540       1     170    72.0  ...       1       0        56  24.913495\n",
              "\n",
              "[63755 rows x 14 columns]"
            ]
          },
          "metadata": {
            "tags": []
          },
          "execution_count": 48
        }
      ]
    },
    {
      "cell_type": "code",
      "metadata": {
        "id": "_P2kBGb-A9XL",
        "colab_type": "code",
        "outputId": "93849984-f319-44a6-84b0-bbb1a6f75430",
        "colab": {
          "base_uri": "https://localhost:8080/",
          "height": 422
        }
      },
      "source": [
        "fig, axs = plt.subplots(1, 1,figsize=(15, 6))\n",
        "weight_plot = sns.countplot(x='weight', hue='cardio', data=df_clean)\n",
        "for ind, label in enumerate(weight_plot.get_xticklabels()):\n",
        "    if ind % 10 == 0:  # every 10th label is kept\n",
        "        label.set_visible(True)\n",
        "    else:\n",
        "        label.set_visible(False)\n",
        "plt.title('Weight Distribution after cleaning data')"
      ],
      "execution_count": 49,
      "outputs": [
        {
          "output_type": "execute_result",
          "data": {
            "text/plain": [
              "Text(0.5, 1.0, 'Weight Distribution after cleaning data')"
            ]
          },
          "metadata": {
            "tags": []
          },
          "execution_count": 49
        },
        {
          "output_type": "display_data",
          "data": {
            "image/png": "[encoded data removed]",
            "text/plain": [
              "<Figure size 1080x432 with 1 Axes>"
            ]
          },
          "metadata": {
            "tags": []
          }
        }
      ]
    },
    {
      "cell_type": "code",
      "metadata": {
        "id": "AQ1WWpo2QpdL",
        "colab_type": "code",
        "outputId": "ae87453b-d7f7-464e-db2a-81dbe24978d5",
        "colab": {
          "base_uri": "https://localhost:8080/",
          "height": 531
        }
      },
      "source": [
        "fig, axs = plt.subplots(1, 1,figsize=(11, 8))\n",
        "height_plot = sns.countplot(x='height', hue='cardio', data=df_clean)\n",
        "for ind, label in enumerate(height_plot.get_xticklabels()):\n",
        "    if ind % 10 == 0:  # every 10th label is kept\n",
        "        label.set_visible(True)\n",
        "    else:\n",
        "        label.set_visible(False)\n",
        "plt.title('Height Distribution after cleaning data')"
      ],
      "execution_count": 50,
      "outputs": [
        {
          "output_type": "execute_result",
          "data": {
            "text/plain": [
              "Text(0.5, 1.0, 'Height Distribution after cleaning data')"
            ]
          },
          "metadata": {
            "tags": []
          },
          "execution_count": 50
        },
        {
          "output_type": "display_data",
          "data": {
            "image/png": "[encoded data removed]",
            "text/plain": [
              "<Figure size 792x576 with 1 Axes>"
            ]
          },
          "metadata": {
            "tags": []
          }
        }
      ]
    },
    {
      "cell_type": "markdown",
      "metadata": {
        "id": "rFX7Df8oDimy",
        "colab_type": "text"
      },
      "source": [
        "The distribution of our weights and heights looks good after the data cleaning. Both distributions looks roughly normal without crazy values, and the weight distributions look a little skewed to the right. "
      ]
    },
    {
      "cell_type": "code",
      "metadata": {
        "id": "Rb95t85hBdYz",
        "colab_type": "code",
        "outputId": "653f7cba-3c02-48a3-f34c-c9f7ed7a5d28",
        "colab": {
          "base_uri": "https://localhost:8080/",
          "height": 639
        }
      },
      "source": [
        "fig, axs = plt.subplots(1, 2,figsize=(20,10))\n",
        "\n",
        "# plot distolic blood pressure\n",
        "axs[0].hist(df_clean['ap_lo'])\n",
        "axs[0].set_title('Diastillic blood pressure')\n",
        "axs[0].set(xlabel='diastillic blood pressure', ylabel='frequency')\n",
        "\n",
        "# plot systolic blood pressure\n",
        "axs[1].hist(df_clean['ap_hi'])\n",
        "axs[1].set_title(\"Systolic blood pressure\")\n",
        "axs[1].set(xlabel='systolic blood pressure', ylabel='frequency')"
      ],
      "execution_count": 51,
      "outputs": [
        {
          "output_type": "execute_result",
          "data": {
            "text/plain": [
              "[Text(0, 0.5, 'frequency'), Text(0.5, 0, 'systolic blood pressure')]"
            ]
          },
          "metadata": {
            "tags": []
          },
          "execution_count": 51
        },
        {
          "output_type": "display_data",
          "data": {
            "image/png": "[encoded data removed]",
            "text/plain": [
              "<Figure size 1440x720 with 2 Axes>"
            ]
          },
          "metadata": {
            "tags": []
          }
        }
      ]
    },
    {
      "cell_type": "markdown",
      "metadata": {
        "id": "-7hZFOE5D9zn",
        "colab_type": "text"
      },
      "source": [
        "We can see that for the systolic blood pressure, the values are heavily centered, with around 110 - 120. However, it seems that diastilic blood pressure has gaps between each common values. (between 60, 70, 80, 90) We can infer that they round up many observations. To test that, let us count the appearance of each values in the ap_lo columns:"
      ]
    },
    {
      "cell_type": "code",
      "metadata": {
        "id": "NS4i6J0ZCk7F",
        "colab_type": "code",
        "outputId": "0a00b4b9-0457-4628-f87b-eb1e5a2acf5d",
        "colab": {
          "base_uri": "https://localhost:8080/",
          "height": 403
        }
      },
      "source": [
        "df_clean['ap_lo'].value_counts().head(20)"
      ],
      "execution_count": 52,
      "outputs": [
        {
          "output_type": "execute_result",
          "data": {
            "text/plain": [
              "80    34684\n",
              "90    14212\n",
              "70    10202\n",
              "60     2702\n",
              "79      357\n",
              "85      290\n",
              "75      208\n",
              "95      160\n",
              "89      122\n",
              "69       99\n",
              "65       78\n",
              "50       54\n",
              "82       33\n",
              "84       32\n",
              "83       30\n",
              "87       29\n",
              "78       27\n",
              "74       26\n",
              "86       26\n",
              "73       22\n",
              "Name: ap_lo, dtype: int64"
            ]
          },
          "metadata": {
            "tags": []
          },
          "execution_count": 52
        }
      ]
    },
    {
      "cell_type": "markdown",
      "metadata": {
        "id": "dwVC7MumIcHB",
        "colab_type": "text"
      },
      "source": [
        "By looking at the top twenty frequent values, we can see that many data points are rounded to the tenth value, such as 80, 90, 70, 60. "
      ]
    },
    {
      "cell_type": "markdown",
      "metadata": {
        "id": "7vdKbqLBvxMe",
        "colab_type": "text"
      },
      "source": [
        "As a result, we filtered the table from 69999 rows to 63755 rows, which is still a large enough number to do our data analysis.\n",
        "\n",
        "After cleaning the data as such, we are able to generate a plot describing the occurence of cardiovascular disease with respect to 'height' and 'weight' without all the outliers observered before."
      ]
    },
    {
      "cell_type": "code",
      "metadata": {
        "id": "AY1UxlXMjSk_",
        "colab_type": "code",
        "outputId": "bdddb62f-3cf6-49e3-8911-ec4896b68b14",
        "colab": {
          "base_uri": "https://localhost:8080/",
          "height": 404
        }
      },
      "source": [
        "fig, ax = plt.subplots(figsize=(12,6))\n",
        "cardio = 0\n",
        "for color in ['tab:blue', 'tab:red']:\n",
        "  if color == 'tab:red':\n",
        "    alpha = 0.1\n",
        "  else:\n",
        "    alpha = 0.5\n",
        "  x = df_clean.bmi[df_clean.cardio == cardio]\n",
        "  y = df_clean.age_year[df_clean.cardio == cardio]\n",
        "  ax.scatter(x, y, c=color, label='CVD: {}'.format(cardio), alpha=alpha)\n",
        "  cardio = cardio + 1\n",
        "ax.legend()\n",
        "plt.title('Distrution of CVD over bmi and age_year')\n",
        "ax.set(xlabel='BMI', ylabel='age(year)')\n",
        "plt.show()"
      ],
      "execution_count": 53,
      "outputs": [
        {
          "output_type": "display_data",
          "data": {
            "image/png": "[encoded data removed]",
            "text/plain": [
              "<Figure size 864x432 with 1 Axes>"
            ]
          },
          "metadata": {
            "tags": []
          }
        }
      ]
    },
    {
      "cell_type": "markdown",
      "metadata": {
        "id": "PkHfc3i4utw4",
        "colab_type": "text"
      },
      "source": [
        "From the above plot, we notice that as age increases, the range of BMI that is susceptible to cardiovascular disease gets wider as well. In addition we see that the majority of cardiovascular disease is diagnosed towards the mean BMI for this dataset, wheres as many healthy individuals are outliers in the BMI distribution."
      ]
    },
    {
      "cell_type": "markdown",
      "metadata": {
        "id": "967ux5AY-Hyo",
        "colab_type": "text"
      },
      "source": [
        "# Correlation\n",
        "Here we makes a simple correlation series to see which variables are related to the presence of cardiovascular disease"
      ]
    },
    {
      "cell_type": "code",
      "metadata": {
        "id": "1Dlt9I8G-Hyo",
        "colab_type": "code",
        "outputId": "b20cc0e7-cf7b-41e9-a87d-3460038f678f",
        "colab": {
          "base_uri": "https://localhost:8080/",
          "height": 332
        }
      },
      "source": [
        "corr_matrix = df_clean[[\"age_year\", \"gender\", \"weight\", \"height\", \"ap_hi\", \"ap_lo\",\\\n",
        "           \"cholesterol\", \"gluc\", \"smoke\", \"alco\", \"active\", \"bmi\", \"cardio\"]].corr()\n",
        "\n",
        "sns.heatmap(corr_matrix)"
      ],
      "execution_count": 54,
      "outputs": [
        {
          "output_type": "execute_result",
          "data": {
            "text/plain": [
              "<matplotlib.axes._subplots.AxesSubplot at 0x7f923d402668>"
            ]
          },
          "metadata": {
            "tags": []
          },
          "execution_count": 54
        },
        {
          "output_type": "display_data",
          "data": {
            "image/png": "[encoded data removed]",
            "text/plain": [
              "<Figure size 432x288 with 2 Axes>"
            ]
          },
          "metadata": {
            "tags": []
          }
        }
      ]
    },
    {
      "cell_type": "markdown",
      "metadata": {
        "id": "J_YrJ0tu-Hyq",
        "colab_type": "text"
      },
      "source": [
        "#### It looks like `age(_year)`, `weight`, `bmi` and `cholesterol`, `ap_hi` (systolic blood pressure), `ap_lo` (diastolic blood pressure) and `gluc` (glucose)   columns have a much larger impact on the presence of cardiovascular disease than other factors. But they may have hidden effects on the result, so we will train a model w/ or w/o those columns and compare the result.\n"
      ]
    },
    {
      "cell_type": "code",
      "metadata": {
        "id": "H7-cGAQN-Hyq",
        "colab_type": "code",
        "outputId": "d057613e-d770-4be9-aa20-6e3b6827aada",
        "colab": {
          "base_uri": "https://localhost:8080/",
          "height": 54
        }
      },
      "source": [
        "df_female = df_clean[df_clean.gender == 1]\n",
        "df_male   = df_clean[df_clean.gender == 2]\n",
        "\n",
        "print(f'Male   data frame rows: {len(df_male)  }')\n",
        "print(f'Female data frame rows: {len(df_female)}')"
      ],
      "execution_count": 55,
      "outputs": [
        {
          "output_type": "stream",
          "text": [
            "Male   data frame rows: 21963\n",
            "Female data frame rows: 41792\n"
          ],
          "name": "stdout"
        }
      ]
    },
    {
      "cell_type": "markdown",
      "metadata": {
        "id": "Sgg9rxiN-Hys",
        "colab_type": "text"
      },
      "source": [
        "##### We have almost twice as much data on female patients as male patients, but it might not has as much impact as the correlations show."
      ]
    },
    {
      "cell_type": "code",
      "metadata": {
        "id": "kOt9gmX8TMX_",
        "colab_type": "code",
        "outputId": "7591bbff-2235-46bd-91d6-93b92b8b3498",
        "colab": {
          "base_uri": "https://localhost:8080/",
          "height": 730
        }
      },
      "source": [
        "fig, ax = plt.subplots(2, figsize=(12,12))\n",
        "cardio = 0\n",
        "for color in ['tab:blue', 'tab:red']:\n",
        "  x = df_male.ap_lo[df_male.cardio == cardio]\n",
        "  y = df_male.ap_hi[df_male.cardio == cardio]\n",
        "  ax[0].scatter(x, y, c=color, label='CVD: {}'.format(cardio), alpha=0.2)\n",
        "  cardio = cardio + 1\n",
        "ax[0].legend()\n",
        "ax[0].set_title('Male distribution of CVD over ap_lo and ap_hi')\n",
        "ax[0].set(xlabel='Diastolic Blood Pressure', ylabel='Systolic Blood Pressure')\n",
        "\n",
        "cardio = 0\n",
        "for color in ['tab:blue', 'tab:red']:\n",
        "  x = df_female.ap_lo[df_female.cardio == cardio]\n",
        "  y = df_female.ap_hi[df_female.cardio == cardio]\n",
        "  ax[1].scatter(x, y, c=color, label='CVD: {}'.format(cardio), alpha=0.2)\n",
        "  cardio = cardio + 1\n",
        "ax[1].legend()\n",
        "ax[1].set_title('Female distribution of CVD over ap_lo and ap_hi')\n",
        "ax[1].set(xlabel='Diastolic Blood Pressure', ylabel='Systolic Blood Presure')\n",
        "plt.show()"
      ],
      "execution_count": 73,
      "outputs": [
        {
          "output_type": "display_data",
          "data": {
            "image/png": "[encoded data removed]",
            "text/plain": [
              "<Figure size 864x864 with 2 Axes>"
            ]
          },
          "metadata": {
            "tags": []
          }
        }
      ]
    },
    {
      "cell_type": "markdown",
      "metadata": {
        "id": "xXFMUy6c-Hyt",
        "colab_type": "text"
      },
      "source": [
        "# Data Normalization"
      ]
    },
    {
      "cell_type": "code",
      "metadata": {
        "id": "fYARt-t6-Hyt",
        "colab_type": "code",
        "outputId": "13a52059-62a3-4073-9a35-f22b739dac48",
        "colab": {
          "base_uri": "https://localhost:8080/",
          "height": 424
        }
      },
      "source": [
        "# Splitting and shuffling data\n",
        "\n",
        "df_shuff = sk.utils.shuffle(df_clean)\n",
        "\n",
        "scaler = MinMaxScaler()\n",
        "\n",
        "# Normalizing fields for regression\n",
        "df_shuff[\"gender\"]   = df[\"gender\"] - 1\n",
        "df_shuff = df_shuff.drop(\"age\", axis = 1)\n",
        "\n",
        "df_normalized = scaler.fit_transform(df_shuff)\n",
        "# df2[\"age_year\"] = min_max_scaler.fit_transform(df2[\"age_year\"].values)\n",
        "# df2[\"height\"]   = min_max_scaler.fit_transform(df2[\"height\"].values)\n",
        "# df2[\"weight\"]   = min_max_scaler.fit_transform(df2[\"weight\"].values)\n",
        "# df2[\"ap_hi\"]    = min_max_scaler.fit_transform(df2[\"ap_hi\"].values)\n",
        "# df2[\"ap_low\"]   = min_max_scaler.fit_transform(df2[\"ap_low\"].values)\n",
        "\n",
        "df_normalized = pd.DataFrame(df_normalized)\n",
        "df_normalized.columns = df_shuff.columns\n",
        "df_normalized"
      ],
      "execution_count": 57,
      "outputs": [
        {
          "output_type": "execute_result",
          "data": {
            "text/html": [
              "<div>\n",
              "<style scoped>\n",
              "    .dataframe tbody tr th:only-of-type {\n",
              "        vertical-align: middle;\n",
              "    }\n",
              "\n",
              "    .dataframe tbody tr th {\n",
              "        vertical-align: top;\n",
              "    }\n",
              "\n",
              "    .dataframe thead th {\n",
              "        text-align: right;\n",
              "    }\n",
              "</style>\n",
              "<table border=\"1\" class=\"dataframe\">\n",
              "  <thead>\n",
              "    <tr style=\"text-align: right;\">\n",
              "      <th></th>\n",
              "      <th>gender</th>\n",
              "      <th>height</th>\n",
              "      <th>weight</th>\n",
              "      <th>ap_hi</th>\n",
              "      <th>ap_lo</th>\n",
              "      <th>cholesterol</th>\n",
              "      <th>gluc</th>\n",
              "      <th>smoke</th>\n",
              "      <th>alco</th>\n",
              "      <th>active</th>\n",
              "      <th>cardio</th>\n",
              "      <th>age_year</th>\n",
              "      <th>bmi</th>\n",
              "    </tr>\n",
              "  </thead>\n",
              "  <tbody>\n",
              "    <tr>\n",
              "      <th>0</th>\n",
              "      <td>1.0</td>\n",
              "      <td>0.794118</td>\n",
              "      <td>0.771026</td>\n",
              "      <td>0.370370</td>\n",
              "      <td>0.648148</td>\n",
              "      <td>0.5</td>\n",
              "      <td>0.0</td>\n",
              "      <td>0.0</td>\n",
              "      <td>0.0</td>\n",
              "      <td>1.0</td>\n",
              "      <td>1.0</td>\n",
              "      <td>0.285714</td>\n",
              "      <td>0.300759</td>\n",
              "    </tr>\n",
              "    <tr>\n",
              "      <th>1</th>\n",
              "      <td>0.0</td>\n",
              "      <td>0.470588</td>\n",
              "      <td>0.286658</td>\n",
              "      <td>0.370370</td>\n",
              "      <td>0.648148</td>\n",
              "      <td>0.0</td>\n",
              "      <td>0.0</td>\n",
              "      <td>0.0</td>\n",
              "      <td>0.0</td>\n",
              "      <td>1.0</td>\n",
              "      <td>1.0</td>\n",
              "      <td>0.800000</td>\n",
              "      <td>0.211967</td>\n",
              "    </tr>\n",
              "    <tr>\n",
              "      <th>2</th>\n",
              "      <td>1.0</td>\n",
              "      <td>0.637255</td>\n",
              "      <td>0.260238</td>\n",
              "      <td>0.370370</td>\n",
              "      <td>0.648148</td>\n",
              "      <td>0.0</td>\n",
              "      <td>0.0</td>\n",
              "      <td>0.0</td>\n",
              "      <td>0.0</td>\n",
              "      <td>1.0</td>\n",
              "      <td>0.0</td>\n",
              "      <td>0.742857</td>\n",
              "      <td>0.122454</td>\n",
              "    </tr>\n",
              "    <tr>\n",
              "      <th>3</th>\n",
              "      <td>0.0</td>\n",
              "      <td>0.441176</td>\n",
              "      <td>0.101717</td>\n",
              "      <td>0.370370</td>\n",
              "      <td>0.648148</td>\n",
              "      <td>0.0</td>\n",
              "      <td>0.0</td>\n",
              "      <td>0.0</td>\n",
              "      <td>0.0</td>\n",
              "      <td>1.0</td>\n",
              "      <td>0.0</td>\n",
              "      <td>0.885714</td>\n",
              "      <td>0.100580</td>\n",
              "    </tr>\n",
              "    <tr>\n",
              "      <th>4</th>\n",
              "      <td>1.0</td>\n",
              "      <td>0.617647</td>\n",
              "      <td>0.295465</td>\n",
              "      <td>0.370370</td>\n",
              "      <td>0.648148</td>\n",
              "      <td>0.0</td>\n",
              "      <td>0.0</td>\n",
              "      <td>0.0</td>\n",
              "      <td>0.0</td>\n",
              "      <td>0.0</td>\n",
              "      <td>0.0</td>\n",
              "      <td>0.457143</td>\n",
              "      <td>0.149154</td>\n",
              "    </tr>\n",
              "    <tr>\n",
              "      <th>...</th>\n",
              "      <td>...</td>\n",
              "      <td>...</td>\n",
              "      <td>...</td>\n",
              "      <td>...</td>\n",
              "      <td>...</td>\n",
              "      <td>...</td>\n",
              "      <td>...</td>\n",
              "      <td>...</td>\n",
              "      <td>...</td>\n",
              "      <td>...</td>\n",
              "      <td>...</td>\n",
              "      <td>...</td>\n",
              "      <td>...</td>\n",
              "    </tr>\n",
              "    <tr>\n",
              "      <th>63750</th>\n",
              "      <td>0.0</td>\n",
              "      <td>0.470588</td>\n",
              "      <td>0.242624</td>\n",
              "      <td>0.370370</td>\n",
              "      <td>0.648148</td>\n",
              "      <td>0.0</td>\n",
              "      <td>0.0</td>\n",
              "      <td>0.0</td>\n",
              "      <td>0.0</td>\n",
              "      <td>1.0</td>\n",
              "      <td>0.0</td>\n",
              "      <td>0.742857</td>\n",
              "      <td>0.182810</td>\n",
              "    </tr>\n",
              "    <tr>\n",
              "      <th>63751</th>\n",
              "      <td>0.0</td>\n",
              "      <td>0.490196</td>\n",
              "      <td>0.330691</td>\n",
              "      <td>0.370370</td>\n",
              "      <td>0.277778</td>\n",
              "      <td>0.0</td>\n",
              "      <td>0.0</td>\n",
              "      <td>0.0</td>\n",
              "      <td>0.0</td>\n",
              "      <td>1.0</td>\n",
              "      <td>0.0</td>\n",
              "      <td>0.285714</td>\n",
              "      <td>0.230209</td>\n",
              "    </tr>\n",
              "    <tr>\n",
              "      <th>63752</th>\n",
              "      <td>0.0</td>\n",
              "      <td>0.490196</td>\n",
              "      <td>0.418758</td>\n",
              "      <td>0.648148</td>\n",
              "      <td>0.833333</td>\n",
              "      <td>0.0</td>\n",
              "      <td>0.0</td>\n",
              "      <td>0.0</td>\n",
              "      <td>0.0</td>\n",
              "      <td>1.0</td>\n",
              "      <td>1.0</td>\n",
              "      <td>0.514286</td>\n",
              "      <td>0.287028</td>\n",
              "    </tr>\n",
              "    <tr>\n",
              "      <th>63753</th>\n",
              "      <td>0.0</td>\n",
              "      <td>0.558824</td>\n",
              "      <td>0.321885</td>\n",
              "      <td>0.370370</td>\n",
              "      <td>0.648148</td>\n",
              "      <td>0.0</td>\n",
              "      <td>0.0</td>\n",
              "      <td>0.0</td>\n",
              "      <td>0.0</td>\n",
              "      <td>1.0</td>\n",
              "      <td>1.0</td>\n",
              "      <td>0.742857</td>\n",
              "      <td>0.189937</td>\n",
              "    </tr>\n",
              "    <tr>\n",
              "      <th>63754</th>\n",
              "      <td>1.0</td>\n",
              "      <td>0.558824</td>\n",
              "      <td>0.603699</td>\n",
              "      <td>0.462963</td>\n",
              "      <td>0.833333</td>\n",
              "      <td>0.0</td>\n",
              "      <td>0.0</td>\n",
              "      <td>0.0</td>\n",
              "      <td>0.0</td>\n",
              "      <td>1.0</td>\n",
              "      <td>1.0</td>\n",
              "      <td>0.800000</td>\n",
              "      <td>0.356384</td>\n",
              "    </tr>\n",
              "  </tbody>\n",
              "</table>\n",
              "<p>63755 rows × 13 columns</p>\n",
              "</div>"
            ],
            "text/plain": [
              "       gender    height    weight     ap_hi  ...  active  cardio  age_year       bmi\n",
              "0         1.0  0.794118  0.771026  0.370370  ...     1.0     1.0  0.285714  0.300759\n",
              "1         0.0  0.470588  0.286658  0.370370  ...     1.0     1.0  0.800000  0.211967\n",
              "2         1.0  0.637255  0.260238  0.370370  ...     1.0     0.0  0.742857  0.122454\n",
              "3         0.0  0.441176  0.101717  0.370370  ...     1.0     0.0  0.885714  0.100580\n",
              "4         1.0  0.617647  0.295465  0.370370  ...     0.0     0.0  0.457143  0.149154\n",
              "...       ...       ...       ...       ...  ...     ...     ...       ...       ...\n",
              "63750     0.0  0.470588  0.242624  0.370370  ...     1.0     0.0  0.742857  0.182810\n",
              "63751     0.0  0.490196  0.330691  0.370370  ...     1.0     0.0  0.285714  0.230209\n",
              "63752     0.0  0.490196  0.418758  0.648148  ...     1.0     1.0  0.514286  0.287028\n",
              "63753     0.0  0.558824  0.321885  0.370370  ...     1.0     1.0  0.742857  0.189937\n",
              "63754     1.0  0.558824  0.603699  0.462963  ...     1.0     1.0  0.800000  0.356384\n",
              "\n",
              "[63755 rows x 13 columns]"
            ]
          },
          "metadata": {
            "tags": []
          },
          "execution_count": 57
        }
      ]
    },
    {
      "cell_type": "markdown",
      "metadata": {
        "id": "czt6XyhZ-Hyx",
        "colab_type": "text"
      },
      "source": [
        "## Training & Testing set"
      ]
    },
    {
      "cell_type": "code",
      "metadata": {
        "id": "nxS6npq_-Hyy",
        "colab_type": "code",
        "outputId": "5d2da844-c032-42e1-9f9a-05c62955adfd",
        "colab": {
          "base_uri": "https://localhost:8080/",
          "height": 127
        }
      },
      "source": [
        "'''We were thinking we could separate male and female observations\n",
        "for experimental validity. If so we could uncomment this: '''\n",
        "\n",
        "labels = df_normalized[\"cardio\"].to_numpy().transpose()\n",
        "inputs = df_normalized.drop('cardio', axis = 1)\n",
        "print(\"Input shape: {0}, Labels shape: {1}\".format(inputs.shape, labels.shape))\n",
        "\n",
        "# Split into folds for training/testing\n",
        "frac = 0.8\n",
        "n = labels.shape[0]\n",
        "split_idx = int(frac * n)\n",
        "\n",
        "train_inputs = inputs[:split_idx]\n",
        "train_labels = labels[:split_idx]\n",
        "test_inputs = inputs[split_idx:n]\n",
        "test_labels = labels[split_idx:n]\n",
        "\n",
        "print(\"Training shapes:\")\n",
        "print(\"Train inputs shape: {0}, Train labels shape: {1}\".format(train_inputs.shape, train_labels.shape))\n",
        "\n",
        "print(\"\")\n",
        "\n",
        "print(\"Test shapes:\")\n",
        "print(\"Test inputs shape: {0}, Test labels shape {1}\".format(test_inputs.shape, test_labels.shape))"
      ],
      "execution_count": 58,
      "outputs": [
        {
          "output_type": "stream",
          "text": [
            "Input shape: (63755, 12), Labels shape: (63755,)\n",
            "Training shapes:\n",
            "Train inputs shape: (51004, 12), Train labels shape: (51004,)\n",
            "\n",
            "Test shapes:\n",
            "Test inputs shape: (12751, 12), Test labels shape (12751,)\n"
          ],
          "name": "stdout"
        }
      ]
    },
    {
      "cell_type": "markdown",
      "metadata": {
        "id": "Ub6PKRU5-Hy0",
        "colab_type": "text"
      },
      "source": [
        "### Regression"
      ]
    },
    {
      "cell_type": "markdown",
      "metadata": {
        "id": "nY_9f4Euz9L5",
        "colab_type": "text"
      },
      "source": [
        "#### Linear Regression"
      ]
    },
    {
      "cell_type": "code",
      "metadata": {
        "id": "-ciDOFHErOLw",
        "colab_type": "code",
        "outputId": "fbb1eeac-9b66-4598-9477-36cc732d9d48",
        "colab": {
          "base_uri": "https://localhost:8080/",
          "height": 697
        }
      },
      "source": [
        "# Linear Regression\n",
        "regr = sm.OLS(train_labels, train_inputs).fit()\n",
        "tr_predictions = regr.predict(train_inputs)\n",
        "te_predictions = regr.predict(test_inputs)\n",
        "regr_tr_mse = sk.metrics.mean_squared_error(train_labels, tr_predictions)\n",
        "regr_te_mse = sk.metrics.mean_squared_error(test_labels, te_predictions)\n",
        "print(regr.summary())\n",
        "print(\"LinReg training mse: {}\".format(regr_tr_mse))\n",
        "print(\"LinReg testing mse: {}\".format(regr_te_mse))"
      ],
      "execution_count": 59,
      "outputs": [
        {
          "output_type": "stream",
          "text": [
            "                                 OLS Regression Results                                \n",
            "=======================================================================================\n",
            "Dep. Variable:                      y   R-squared (uncentered):                   0.587\n",
            "Model:                            OLS   Adj. R-squared (uncentered):              0.587\n",
            "Method:                 Least Squares   F-statistic:                              6051.\n",
            "Date:                Fri, 13 Dec 2019   Prob (F-statistic):                        0.00\n",
            "Time:                        01:11:25   Log-Likelihood:                         -30497.\n",
            "No. Observations:               51004   AIC:                                  6.102e+04\n",
            "Df Residuals:                   50992   BIC:                                  6.112e+04\n",
            "Df Model:                          12                                                  \n",
            "Covariance Type:            nonrobust                                                  \n",
            "===============================================================================\n",
            "                  coef    std err          t      P>|t|      [0.025      0.975]\n",
            "-------------------------------------------------------------------------------\n",
            "gender          0.0025      0.005      0.499      0.618      -0.007       0.012\n",
            "height         -0.7717      0.021    -36.961      0.000      -0.813      -0.731\n",
            "weight          1.0197      0.044     23.416      0.000       0.934       1.105\n",
            "ap_hi           1.2216      0.020     60.591      0.000       1.182       1.261\n",
            "ap_lo           0.1284      0.018      7.027      0.000       0.093       0.164\n",
            "cholesterol     0.2044      0.007     30.513      0.000       0.191       0.218\n",
            "gluc           -0.0456      0.008     -5.894      0.000      -0.061      -0.030\n",
            "smoke          -0.0322      0.008     -4.157      0.000      -0.047      -0.017\n",
            "alco           -0.0435      0.009     -4.634      0.000      -0.062      -0.025\n",
            "active         -0.0444      0.005     -9.074      0.000      -0.054      -0.035\n",
            "age_year        0.3647      0.010     35.056      0.000       0.344       0.385\n",
            "bmi            -1.2871      0.070    -18.378      0.000      -1.424      -1.150\n",
            "==============================================================================\n",
            "Omnibus:                    27975.087   Durbin-Watson:                   2.013\n",
            "Prob(Omnibus):                  0.000   Jarque-Bera (JB):             2918.768\n",
            "Skew:                           0.134   Prob(JB):                         0.00\n",
            "Kurtosis:                       1.859   Cond. No.                         65.5\n",
            "==============================================================================\n",
            "\n",
            "Warnings:\n",
            "[1] Standard Errors assume that the covariance matrix of the errors is correctly specified.\n",
            "LinReg training mse: 0.19359066353998122\n",
            "LinReg testing mse: 0.19333805150862415\n"
          ],
          "name": "stdout"
        }
      ]
    },
    {
      "cell_type": "code",
      "metadata": {
        "id": "bzNAZX7--Hy1",
        "colab_type": "code",
        "outputId": "3995ffb8-3ce1-4eb2-eecc-f420895720fc",
        "colab": {
          "base_uri": "https://localhost:8080/",
          "height": 127
        }
      },
      "source": [
        "# Create linear regression object\n",
        "regr = linear_model.LinearRegression()\n",
        "\n",
        "# # Train the model using the training sets\n",
        "regr.fit(train_inputs, train_labels)\n",
        "\n",
        "# Make predictions using the testing set\n",
        "y_pred = regr.predict(test_inputs)\n",
        "\n",
        "# # The coefficients\n",
        "print('Coefficients: \\n', regr.coef_)\n",
        "# # The mean squared error\n",
        "print(\"Mean squared error: %.2f\"\n",
        "      % mean_squared_error(test_labels, y_pred))\n",
        "# # Explained variance score: 1 is perfect prediction\n",
        "print('Variance score: %.2f' % r2_score(test_labels, y_pred))"
      ],
      "execution_count": 60,
      "outputs": [
        {
          "output_type": "stream",
          "text": [
            "Coefficients: \n",
            " [-7.17936145e-04 -1.89484923e-01  3.61128593e-01  1.22203383e+00\n",
            "  1.35352326e-01  2.04709309e-01 -4.51957374e-02 -3.20933010e-02\n",
            " -4.32297415e-02 -4.27043275e-02  3.69818419e-01 -1.62299480e-01]\n",
            "Mean squared error: 0.19\n",
            "Variance score: 0.22\n"
          ],
          "name": "stdout"
        }
      ]
    },
    {
      "cell_type": "markdown",
      "metadata": {
        "id": "GV7_2p5jz_uH",
        "colab_type": "text"
      },
      "source": [
        "#### Logistic Regression"
      ]
    },
    {
      "cell_type": "code",
      "metadata": {
        "id": "eBI4rDjctkUP",
        "colab_type": "code",
        "outputId": "228af7dc-10b6-46df-92d3-32f0e7c89579",
        "colab": {
          "base_uri": "https://localhost:8080/",
          "height": 568
        }
      },
      "source": [
        "# Logistic Regression\n",
        "regr = sm.Logit(train_labels, train_inputs).fit()\n",
        "tr_predictions = regr.predict(train_inputs)\n",
        "te_predictions = regr.predict(test_inputs)\n",
        "logit_mse_tr = sk.metrics.mean_squared_error(train_labels, tr_predictions)\n",
        "logit_mse_te = sk.metrics.mean_squared_error(test_labels, te_predictions)\n",
        "print(regr.summary())\n",
        "print(\"Logit Train MSE: {}\".format(logit_mse_tr))\n",
        "print(\"Logit Test MSE: {}\".format(logit_mse_te))"
      ],
      "execution_count": 61,
      "outputs": [
        {
          "output_type": "stream",
          "text": [
            "Optimization terminated successfully.\n",
            "         Current function value: 0.566365\n",
            "         Iterations 6\n",
            "                           Logit Regression Results                           \n",
            "==============================================================================\n",
            "Dep. Variable:                      y   No. Observations:                51004\n",
            "Model:                          Logit   Df Residuals:                    50992\n",
            "Method:                           MLE   Df Model:                           11\n",
            "Date:                Fri, 13 Dec 2019   Pseudo R-squ.:                  0.1807\n",
            "Time:                        01:11:26   Log-Likelihood:                -28887.\n",
            "converged:                       True   LL-Null:                       -35257.\n",
            "Covariance Type:            nonrobust   LLR p-value:                     0.000\n",
            "===============================================================================\n",
            "                  coef    std err          z      P>|z|      [0.025      0.975]\n",
            "-------------------------------------------------------------------------------\n",
            "gender          0.0298      0.025      1.169      0.242      -0.020       0.080\n",
            "height         -8.3727      0.122    -68.879      0.000      -8.611      -8.134\n",
            "weight         10.4060      0.243     42.874      0.000       9.930      10.882\n",
            "ap_hi           6.5785      0.121     54.583      0.000       6.342       6.815\n",
            "ap_lo           0.4901      0.099      4.950      0.000       0.296       0.684\n",
            "cholesterol     1.0298      0.036     28.391      0.000       0.959       1.101\n",
            "gluc           -0.2579      0.041     -6.284      0.000      -0.338      -0.177\n",
            "smoke          -0.1800      0.041     -4.434      0.000      -0.259      -0.100\n",
            "alco           -0.2407      0.050     -4.844      0.000      -0.338      -0.143\n",
            "active         -0.2370      0.025     -9.425      0.000      -0.286      -0.188\n",
            "age_year        1.8173      0.055     33.251      0.000       1.710       1.924\n",
            "bmi           -15.5036      0.391    -39.656      0.000     -16.270     -14.737\n",
            "===============================================================================\n",
            "Logit Train MSE: 0.1905610838153036\n",
            "Logit Test MSE: 0.1902022013554064\n"
          ],
          "name": "stdout"
        }
      ]
    },
    {
      "cell_type": "markdown",
      "metadata": {
        "id": "Ui0-DH1n4nvT",
        "colab_type": "text"
      },
      "source": [
        "Using both linear regression and logistic regression, we observe similar training and testing errors in both models."
      ]
    },
    {
      "cell_type": "markdown",
      "metadata": {
        "id": "ZP86epjje19h",
        "colab_type": "text"
      },
      "source": [
        "### SVM"
      ]
    },
    {
      "cell_type": "code",
      "metadata": {
        "id": "4I72qDRue4BY",
        "colab_type": "code",
        "colab": {}
      },
      "source": [
        "from sklearn.svm import SVC\n",
        "from sklearn.metrics import classification_report, accuracy_score"
      ],
      "execution_count": 0,
      "outputs": []
    },
    {
      "cell_type": "code",
      "metadata": {
        "id": "TqEa2pwsfKER",
        "colab_type": "code",
        "colab": {}
      },
      "source": [
        "# Method to fit SVM classifier\n",
        "def train_SVM(X, y, kernel):\n",
        "  clf = SVC(kernel=kernel, gamma='auto')\n",
        "  clf.fit(X, y)\n",
        "  return clf\n",
        "\n",
        "# MEthod to predict outputs\n",
        "def predict_outputs_SVM(clf, train_in, test_in):\n",
        "  y_hat_tr = clf.predict(train_in)\n",
        "  y_hat_te = clf.predict(test_in)\n",
        "  return y_hat_tr, y_hat_te"
      ],
      "execution_count": 0,
      "outputs": []
    },
    {
      "cell_type": "code",
      "metadata": {
        "id": "EWoi_2GHffs3",
        "colab_type": "code",
        "colab": {}
      },
      "source": [
        "# BEST MODEL ALREADY RECORDED BELOW YOU DON'T REALLY NEED TO RUN THIS AGAIN\n",
        "\n",
        "# Training\n",
        "\n",
        "# C_list = [0.1, 1, 10, 100, 1000]\n",
        "# kernel_list = ['linear', 'rbf', 'poly', 'sigmoid']\n",
        "# best_acc = 0\n",
        "# best_svm = {\n",
        "#     'C': -1,\n",
        "#     'kernel': -1\n",
        "# }\n",
        "# for C in C_list:\n",
        "#   for kernel in kernel_list:\n",
        "\n",
        "#     params = {\n",
        "#         'C':C,\n",
        "#         'kernel':kernel\n",
        "#     }\n",
        "\n",
        "#     clf = train_SVM(train_inputs, train_labels, kernel=kernel)\n",
        "#     y_hat_tr, y_hat_te = predict_outputs_SVM(\n",
        "#         clf, \n",
        "#         train_inputs, \n",
        "#         test_inputs, \n",
        "#     )\n",
        "#     tr_acc = accuracy_score(train_labels, y_hat_tr)\n",
        "#     te_acc = accuracy_score(test_labels, y_hat_te)\n",
        "\n",
        "#     print(\"Model: \\n{0}, \\tTrain_acc: {1}, \\tTest_acc: {2}\".format(\n",
        "#         params, tr_acc, te_acc)\n",
        "#     )\n",
        "    \n",
        "#     if te_acc > best_acc:\n",
        "#       best_acc = te_acc\n",
        "#       best_svm['C'] = C\n",
        "#       best_svm['kernel'] = kernel\n",
        "\n",
        "# print(\"\\nBest SVM: \\nC value: {0}, \\nKernel: {1} \\nAccuracy: {2:.3f}\".format(\n",
        "#     best_svm['C'], \n",
        "#     best_svm['kernel'],\n",
        "#     best_acc\n",
        "# ))"
      ],
      "execution_count": 0,
      "outputs": []
    },
    {
      "cell_type": "markdown",
      "metadata": {
        "id": "pNwxuhcvQnrW",
        "colab_type": "text"
      },
      "source": [
        "The above models show that an SVM is able to predict whether or not a given observation exhibits signs of cardiovascular disease to an accuracy of 0.724. The best SVM was:\n",
        "\n",
        "However, it is improtant to note that the inputs that the SVM is training on includes all the data including those columns that are not so strongly correlated. "
      ]
    },
    {
      "cell_type": "code",
      "metadata": {
        "id": "P_4-wyUZ8D_r",
        "colab_type": "code",
        "colab": {}
      },
      "source": [
        "def count_errors(cm):\n",
        "  FP = cm.sum(axis=0) - np.diag(cm)  \n",
        "  FN = cm.sum(axis=1) - np.diag(cm)\n",
        "  TP = np.diag(cm)\n",
        "  TN = cm.sum() - (FP + FN + TP)\n",
        "  return FP, FN, TP, TN"
      ],
      "execution_count": 0,
      "outputs": []
    },
    {
      "cell_type": "code",
      "metadata": {
        "id": "mH6Ovi8E7WsI",
        "colab_type": "code",
        "colab": {}
      },
      "source": [
        "best_svm = SVC(\n",
        "    C=0.1,\n",
        "    kernel='rbf',\n",
        "    gamma='auto'\n",
        ")"
      ],
      "execution_count": 0,
      "outputs": []
    },
    {
      "cell_type": "markdown",
      "metadata": {
        "id": "RoVDRbmynUbB",
        "colab_type": "text"
      },
      "source": [
        "### PCA-SVM"
      ]
    },
    {
      "cell_type": "code",
      "metadata": {
        "id": "cEw7VmYllHOI",
        "colab_type": "code",
        "colab": {}
      },
      "source": [
        "# DO NOT NEED TO RUN AGAIN AS BEST PCA RESULTS HAVE BEEN RECORDED AFTER\n",
        "# RUNNING THIS CODE BLOCK\n",
        "\n",
        "from sklearn.decomposition import PCA\n",
        "# Attempt to reduce dimensionality\n",
        "\n",
        "# Check for best number of principal components\n",
        "# to use for prediction\n",
        "\n",
        "# best_acc = -1\n",
        "# best_n = -1\n",
        "# for n in range(1, 12):\n",
        "#   pca = PCA(n_components=n, svd_solver='auto')\n",
        "#   X_pca_tr = pca.fit_transform(train_inputs)\n",
        "#   X_pca_te = pca.fit_transform(test_inputs)\n",
        "\n",
        "#   clf_pca = best_svm\n",
        "#   clf_pca.fit(X_pca_tr, train_labels)\n",
        "\n",
        "#   y_hat_tr_pca, y_hat_te_pca = predict_outputs_SVM(clf_pca, X_pca_tr, X_pca_te)\n",
        "\n",
        "#   tr_acc = accuracy_score(train_labels, y_hat_tr_pca)\n",
        "#   te_acc = accuracy_score(test_labels, y_hat_te_pca)\n",
        "#   if te_acc > best_acc:\n",
        "#     best_acc = te_acc\n",
        "#     best_n = n\n",
        "  \n",
        "#   print(\"n_components: {0},\\ttrain_acc: {1}, \\ttest_acc: {2}\".format(n, \\\n",
        "#                                                                      tr_acc,\\\n",
        "#                                                                      te_acc)\n",
        "#   )"
      ],
      "execution_count": 0,
      "outputs": []
    },
    {
      "cell_type": "markdown",
      "metadata": {
        "id": "Om4NPk7D4WK-",
        "colab_type": "text"
      },
      "source": [
        "After the above analysis, the best analysis used 10 principal components."
      ]
    },
    {
      "cell_type": "code",
      "metadata": {
        "id": "rFDjOL5spkpK",
        "colab_type": "code",
        "outputId": "2075d348-2612-42d9-f023-4175f929c116",
        "colab": {
          "base_uri": "https://localhost:8080/",
          "height": 72
        }
      },
      "source": [
        "from sklearn.decomposition import PCA\n",
        "clf = best_svm\n",
        "pca = PCA(n_components=10)\n",
        "X_pca_tr = pca.fit_transform(train_inputs)\n",
        "X_pca_te = pca.fit_transform(test_inputs)\n",
        "clf.fit(X_pca_tr, train_labels)\n",
        "y_hat = clf.predict(X_pca_te)\n",
        "cm_pca = sk.metrics.confusion_matrix(test_labels, y_hat)\n",
        "cm_npy = cm_pca\n",
        "\n",
        "TN = cm_npy[0][0]\n",
        "FN = cm_npy[1][0]\n",
        "FP = cm_npy[0][1]\n",
        "TP = cm_npy[1][1]\n",
        "\n",
        "# False positive and False negative rates\n",
        "FPR = FP/(TN+FP) * 100\n",
        "FNR = FN/(TP+FN) * 100\n",
        "\n",
        "# Sensitivity and specificity\n",
        "TPR = TP/(FP+TP) * 100\n",
        "TNR = TN/(FN+TN) * 100\n",
        "\n",
        "print(\"\\nFalse Positive Rate: {0:.2f}%, \\tFalse Negative Rate: {1:.2f}%\".format(FPR, FNR))\n",
        "print(\"True Positive Rate: {0:.2f}%, \\tTrue Negative Rate: {1:.2f}%\".format(TPR, TNR))"
      ],
      "execution_count": 68,
      "outputs": [
        {
          "output_type": "stream",
          "text": [
            "\n",
            "False Positive Rate: 17.04%, \tFalse Negative Rate: 40.52%\n",
            "True Positive Rate: 75.32%, \tTrue Negative Rate: 70.08%\n"
          ],
          "name": "stdout"
        }
      ]
    },
    {
      "cell_type": "markdown",
      "metadata": {
        "id": "WoBRjZQWxZvt",
        "colab_type": "text"
      },
      "source": [
        "These statistics reveal that the PCA analysis was not successfull in classifying the obersvations as well as the raw data. This may be because PCA works better for high dimensional data, while this dataset only has 11 features."
      ]
    },
    {
      "cell_type": "code",
      "metadata": {
        "id": "1p6CWZNO6LTF",
        "colab_type": "code",
        "colab": {}
      },
      "source": [
        "clf = best_svm\n",
        "clf.fit(train_inputs, train_labels)\n",
        "y_hat = clf.predict(test_inputs)\n",
        "cm = sk.metrics.confusion_matrix(test_labels, y_hat)"
      ],
      "execution_count": 0,
      "outputs": []
    },
    {
      "cell_type": "code",
      "metadata": {
        "id": "ja6JHYH--YFi",
        "colab_type": "code",
        "outputId": "be47de36-f373-4afa-db70-8b460dc52403",
        "colab": {
          "base_uri": "https://localhost:8080/",
          "height": 112
        }
      },
      "source": [
        "ind = ['Actual_NO', 'Actual_YES']\n",
        "col = ['Predicted_NO', 'Predictied_YES']\n",
        "cm = pd.DataFrame(cm, index=ind, columns=col)\n",
        "cm"
      ],
      "execution_count": 70,
      "outputs": [
        {
          "output_type": "execute_result",
          "data": {
            "text/html": [
              "<div>\n",
              "<style scoped>\n",
              "    .dataframe tbody tr th:only-of-type {\n",
              "        vertical-align: middle;\n",
              "    }\n",
              "\n",
              "    .dataframe tbody tr th {\n",
              "        vertical-align: top;\n",
              "    }\n",
              "\n",
              "    .dataframe thead th {\n",
              "        text-align: right;\n",
              "    }\n",
              "</style>\n",
              "<table border=\"1\" class=\"dataframe\">\n",
              "  <thead>\n",
              "    <tr style=\"text-align: right;\">\n",
              "      <th></th>\n",
              "      <th>Predicted_NO</th>\n",
              "      <th>Predictied_YES</th>\n",
              "    </tr>\n",
              "  </thead>\n",
              "  <tbody>\n",
              "    <tr>\n",
              "      <th>Actual_NO</th>\n",
              "      <td>5709</td>\n",
              "      <td>1094</td>\n",
              "    </tr>\n",
              "    <tr>\n",
              "      <th>Actual_YES</th>\n",
              "      <td>2481</td>\n",
              "      <td>3467</td>\n",
              "    </tr>\n",
              "  </tbody>\n",
              "</table>\n",
              "</div>"
            ],
            "text/plain": [
              "            Predicted_NO  Predictied_YES\n",
              "Actual_NO           5709            1094\n",
              "Actual_YES          2481            3467"
            ]
          },
          "metadata": {
            "tags": []
          },
          "execution_count": 70
        }
      ]
    },
    {
      "cell_type": "code",
      "metadata": {
        "id": "VXELDFRr_JgB",
        "colab_type": "code",
        "outputId": "4f884b99-c96e-4ae1-dd30-b0f9e66a6204",
        "colab": {
          "base_uri": "https://localhost:8080/",
          "height": 72
        }
      },
      "source": [
        "cm_npy = cm.to_numpy()\n",
        "TN = cm_npy[0][0]\n",
        "FN = cm_npy[1][0]\n",
        "FP = cm_npy[0][1]\n",
        "TP = cm_npy[1][1]\n",
        "\n",
        "# False positive and False negative rates\n",
        "FPR = FP/(TN+FP) * 100\n",
        "FNR = FN/(TP+FN) * 100\n",
        "\n",
        "# Sensitivity and specificity\n",
        "TPR = TP/(FP+TP) * 100\n",
        "TNR = TN/(FN+TN) * 100\n",
        "\n",
        "print(\"\\nFalse Positive Rate: {0:.2f}%, \\tFalse Negative Rate: {1:.2f}%\".format(FPR, FNR))\n",
        "print(\"True Positive Rate: {0:.2f}%, \\tTrue Negative Rate: {1:.2f}%\".format(TPR, TNR))"
      ],
      "execution_count": 71,
      "outputs": [
        {
          "output_type": "stream",
          "text": [
            "\n",
            "False Positive Rate: 16.08%, \tFalse Negative Rate: 41.71%\n",
            "True Positive Rate: 76.01%, \tTrue Negative Rate: 69.71%\n"
          ],
          "name": "stdout"
        }
      ]
    },
    {
      "cell_type": "markdown",
      "metadata": {
        "id": "YOiA71aer2v9",
        "colab_type": "text"
      },
      "source": [
        "From the results above, we see that the raw data significantly reduces the false positive rate. While the desired accuracy is decent enough to make surface predictions, it is speculated that a more complex classifier is necessary in order to achieve accuracies above 90%."
      ]
    },
    {
      "cell_type": "markdown",
      "metadata": {
        "id": "_1wHpZ6KiAYt",
        "colab_type": "text"
      },
      "source": [
        "# Privacy/Ethics Considerations\n",
        "\n",
        "In order to practice data science without doing anything ethically questionable, we carefully considered the legality, privacy concern, the bias involved in the process of data using. We examined the slides about ethical consideration from COGS 9 and COGS 108 lectures, and decided to use [Deon’s data science ethics checklist](http://deon.drivendata.org/) and the project guideline to help us address all the issues with ethical considerations:\n",
        "Deon’s  ethics checklist is composed of five parts: data collection, data storage, analysis, modeling, and deployment:\n",
        "* ## Data Collection:\n",
        "    * We did not participate in the collection of data, therefore we have no interaction with the people whose data were collected, and we do not know if there was bias in the process of data collection. We just simply obtaining data from the Internet. The data set we use is public on Kaggle and said it was “collected at the moment of medical examination.” According to the term of use on Kaggle, “The materials displayed or performed or available on or through the Services, including text, graphics, data… are protected by copyright and other intellectual property laws. The Services may allow you to copy or download certain Content; please remember that just because this functionality exists, doesn’t mean that all the restrictions above don’t apply — they do!” We will download the dataset and perform data analysis using our software. However, we will not distort the data nor use the data for illegal purposes. The purpose of this project is just to explore the data set and answer simple questions. \n",
        "    \n",
        "    * Personal health is a very private subject. We also want to minimize the exposure of personally identifiable information in the dataset. The columns of the data set are age, height, weight, gender, and etc. All this information has corresponded with the patient’s ID. No other personal details, including the name, or other identifiable information was given in the dataset. The dataset is totally anonymous. \n",
        "* ## Data Storage\n",
        "    * Since we just explore the public data set from Kaggle. We don’t necessarily have a plan to secure the dataset. However, we can assume that the data set is safe because we have downloaded the data set to local computers and if we want to share our foundings with other members in the group, we utilize the Team Google Drive associated with UCSD emails. The data set may be removed from Kaggle for various reasons or if people involved in the data collection requested it. We will delete the data set from our local computer after we finished this project. \n",
        "* ## Analysis\n",
        "    * Because we are looking at the patients, not the whole population, we must have a clear picture of what hypothesis can we make, and what conclusion can we draw. For example, we will not conclude that smoking cause the disease because of general knowledge without exploration, but we will rather separate people into groups by the values of the column and find the indicator. \n",
        "\t* The visualization will correctly represent the data. We will not remove any rows and columns to maintain maximum neutrality. Our process and codes that lead to the visualization and results will be along with the conclusion and will be detailed.\n",
        "* ## Modeling\n",
        "    * We will not discriminate. If we have to group people by gender for this data set, it will only be for biological exploration purposes. The groups we will divide will only reflect that they all have some common factors. Since we are doing data on biological statistics, no conclusion that discriminates people socially, racially, or politically will be made.\n",
        "* ## Deployment\n",
        "    * We think that our data visualization and exploration can only lead to the benefit of the readers who are trying to find an association between different factors and cardiovascular diseases. People might find the conclusion to be helpful for giving beneficial health advice. The data and the exploration will not be used for any unethical purpose.\n",
        "\n"
      ]
    },
    {
      "cell_type": "markdown",
      "metadata": {
        "id": "uEfg_j4kxcYy",
        "colab_type": "text"
      },
      "source": [
        "## Conclusions & Discussion"
      ]
    },
    {
      "cell_type": "markdown",
      "metadata": {
        "id": "L66RgfRyxeMg",
        "colab_type": "text"
      },
      "source": [
        "With the classifers built in this experiment, we can help medical personnel predict the chances of a person having cardiovascular disease by analyzing basic information and with data that is easy to obtain. The ability to make these predictions unequivocally shortens the time taken for diagnoisis. This not only helps to save time and money by eliminating the tests that are not required but does so non-invaseively and to a sufficient degree of accuracy.\n",
        "\n",
        "Among all the classifier we ran, the model with the highest accuracy was the SVM (without PCA) which achieved an accuracy of 72.4%, Type I error of around 16%, and Type II error of around 41%. Based on these statistics, we are able to create models that meet the asserted hypothesis, however the performance can be improved.\n",
        "\n",
        "We seem to be able to predict the indicator of the disease, but since the fraction of false negatives is relatively high, the result may not be accurate. In order to increase the accuracy, we may research other possible factors, and whether those new variables can be better indicators for cardiovascular disease. Also, there are some limitations that exist in the dataset that we analyzed. The dataset only collects information about patients live in the US, so the environment that people live may also be a factor. Thirdly, the models we used are not as dynamic and robust as newer methods in Machine Learning. Further research might explore how well a custom built neural network will perform given this task.\n",
        "\n",
        "In conclusion, even though the classifier can provide some insight about the relationship between factors and cardiovascular disease, there should be more improvement on this classifier to make it be more powerful."
      ]
    },
    {
      "cell_type": "code",
      "metadata": {
        "id": "eCjw2pckjdko",
        "colab_type": "code",
        "colab": {}
      },
      "source": [
        ""
      ],
      "execution_count": 0,
      "outputs": []
    }
  ]
}
